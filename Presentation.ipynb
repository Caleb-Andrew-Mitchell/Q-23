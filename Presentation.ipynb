{
 "cells": [
  {
   "cell_type": "code",
   "execution_count": 1,
   "id": "37259e5b-3748-498e-a67c-d0a594e6c9dd",
   "metadata": {},
   "outputs": [
    {
     "name": "stdout",
     "output_type": "stream",
     "text": [
      "{'0': 1024}\n"
     ]
    },
    {
     "data": {
      "text/html": [
       "<pre style=\"word-wrap: normal;white-space: pre;background: #fff0;line-height: 1.1;font-family: &quot;Courier New&quot;,Courier,monospace\">     ┌─┐\n",
       "  q: ┤M├\n",
       "     └╥┘\n",
       "c: 1/═╩═\n",
       "      0 </pre>"
      ],
      "text/plain": [
       "     ┌─┐\n",
       "  q: ┤M├\n",
       "     └╥┘\n",
       "c: 1/═╩═\n",
       "      0 "
      ]
     },
     "execution_count": 1,
     "metadata": {},
     "output_type": "execute_result"
    }
   ],
   "source": [
    "from qiskit import QuantumCircuit\n",
    "from qiskit import Aer, execute\n",
    "\n",
    "Qcir=QuantumCircuit(1, 1)\n",
    "Qcir.measure(0,0)\n",
    "backend=Aer.get_backend('qasm_simulator')\n",
    "jobend=execute(Qcir, backend, shots=1024)\n",
    "result=jobend.result()\n",
    "print(result.get_counts())\n",
    "\n",
    "Qcir.draw()"
   ]
  },
  {
   "cell_type": "code",
   "execution_count": 26,
   "id": "73967781-2d64-4594-aceb-0284862b0341",
   "metadata": {},
   "outputs": [
    {
     "name": "stdout",
     "output_type": "stream",
     "text": [
      "{'1': 1024}\n"
     ]
    },
    {
     "data": {
      "text/html": [
       "<pre style=\"word-wrap: normal;white-space: pre;background: #fff0;line-height: 1.1;font-family: &quot;Courier New&quot;,Courier,monospace\">     ┌───┐┌─┐\n",
       "  q: ┤ X ├┤M├\n",
       "     └───┘└╥┘\n",
       "c: 1/══════╩═\n",
       "           0 </pre>"
      ],
      "text/plain": [
       "     ┌───┐┌─┐\n",
       "  q: ┤ X ├┤M├\n",
       "     └───┘└╥┘\n",
       "c: 1/══════╩═\n",
       "           0 "
      ]
     },
     "execution_count": 26,
     "metadata": {},
     "output_type": "execute_result"
    }
   ],
   "source": [
    "Qcir=QuantumCircuit(1, 1)\n",
    "Qcir.x(0)\n",
    "Qcir.measure(0,0)\n",
    "backend=Aer.get_backend('qasm_simulator')\n",
    "jobend=execute(Qcir, backend, shots=1024)\n",
    "result=jobend.result()\n",
    "print(result.get_counts())\n",
    "\n",
    "Qcir.draw()"
   ]
  },
  {
   "cell_type": "code",
   "execution_count": 27,
   "id": "df4b489f-d1ec-466a-9056-9cf59436b037",
   "metadata": {},
   "outputs": [
    {
     "name": "stdout",
     "output_type": "stream",
     "text": [
      "{'1': 1024}\n"
     ]
    },
    {
     "data": {
      "text/html": [
       "<pre style=\"word-wrap: normal;white-space: pre;background: #fff0;line-height: 1.1;font-family: &quot;Courier New&quot;,Courier,monospace\">     ┌───┐┌─┐\n",
       "  q: ┤ Y ├┤M├\n",
       "     └───┘└╥┘\n",
       "c: 1/══════╩═\n",
       "           0 </pre>"
      ],
      "text/plain": [
       "     ┌───┐┌─┐\n",
       "  q: ┤ Y ├┤M├\n",
       "     └───┘└╥┘\n",
       "c: 1/══════╩═\n",
       "           0 "
      ]
     },
     "execution_count": 27,
     "metadata": {},
     "output_type": "execute_result"
    }
   ],
   "source": [
    "Qcir=QuantumCircuit(1, 1)\n",
    "Qcir.y(0)\n",
    "Qcir.measure(0,0)\n",
    "backend=Aer.get_backend('qasm_simulator')\n",
    "jobend=execute(Qcir, backend, shots=1024)\n",
    "result=jobend.result()\n",
    "print(result.get_counts())\n",
    "\n",
    "Qcir.draw()"
   ]
  },
  {
   "cell_type": "code",
   "execution_count": 28,
   "id": "77892420-7d9b-4c66-bdc6-b20997c625c1",
   "metadata": {},
   "outputs": [
    {
     "name": "stdout",
     "output_type": "stream",
     "text": [
      "{'0': 1024}\n"
     ]
    },
    {
     "data": {
      "text/html": [
       "<pre style=\"word-wrap: normal;white-space: pre;background: #fff0;line-height: 1.1;font-family: &quot;Courier New&quot;,Courier,monospace\">     ┌───┐┌─┐\n",
       "  q: ┤ Z ├┤M├\n",
       "     └───┘└╥┘\n",
       "c: 1/══════╩═\n",
       "           0 </pre>"
      ],
      "text/plain": [
       "     ┌───┐┌─┐\n",
       "  q: ┤ Z ├┤M├\n",
       "     └───┘└╥┘\n",
       "c: 1/══════╩═\n",
       "           0 "
      ]
     },
     "execution_count": 28,
     "metadata": {},
     "output_type": "execute_result"
    }
   ],
   "source": [
    "Qcir=QuantumCircuit(1, 1)\n",
    "Qcir.z(0)\n",
    "Qcir.measure(0,0)\n",
    "backend=Aer.get_backend('qasm_simulator')\n",
    "jobend=execute(Qcir, backend, shots=1024)\n",
    "result=jobend.result()\n",
    "print(result.get_counts())\n",
    "\n",
    "Qcir.draw()"
   ]
  },
  {
   "cell_type": "code",
   "execution_count": 29,
   "id": "932a8684-ca4d-45ce-8b9d-3664412841e1",
   "metadata": {},
   "outputs": [
    {
     "name": "stdout",
     "output_type": "stream",
     "text": [
      "{'1': 494, '0': 530}\n"
     ]
    },
    {
     "data": {
      "text/html": [
       "<pre style=\"word-wrap: normal;white-space: pre;background: #fff0;line-height: 1.1;font-family: &quot;Courier New&quot;,Courier,monospace\">     ┌───┐┌─┐\n",
       "  q: ┤ H ├┤M├\n",
       "     └───┘└╥┘\n",
       "c: 1/══════╩═\n",
       "           0 </pre>"
      ],
      "text/plain": [
       "     ┌───┐┌─┐\n",
       "  q: ┤ H ├┤M├\n",
       "     └───┘└╥┘\n",
       "c: 1/══════╩═\n",
       "           0 "
      ]
     },
     "execution_count": 29,
     "metadata": {},
     "output_type": "execute_result"
    }
   ],
   "source": [
    "Qcir=QuantumCircuit(1, 1)\n",
    "Qcir.h(0)\n",
    "Qcir.measure(0,0)\n",
    "backend=Aer.get_backend('qasm_simulator')\n",
    "jobend=execute(Qcir, backend, shots=1024)\n",
    "result=jobend.result()\n",
    "print(result.get_counts())\n",
    "\n",
    "Qcir.draw()"
   ]
  },
  {
   "cell_type": "code",
   "execution_count": 30,
   "id": "aa8f1ad1-5b91-4730-840c-931d09bec61d",
   "metadata": {},
   "outputs": [
    {
     "name": "stdout",
     "output_type": "stream",
     "text": [
      "{'1': 1024}\n",
      "{'0': 1024}\n"
     ]
    },
    {
     "data": {
      "text/html": [
       "<pre style=\"word-wrap: normal;white-space: pre;background: #fff0;line-height: 1.1;font-family: &quot;Courier New&quot;,Courier,monospace\">     ┌───┐┌─┐┌───┐┌─┐\n",
       "  q: ┤ X ├┤M├┤ X ├┤M├\n",
       "     └───┘└╥┘└───┘└╥┘\n",
       "c: 1/══════╩═══════╩═\n",
       "           0       0 </pre>"
      ],
      "text/plain": [
       "     ┌───┐┌─┐┌───┐┌─┐\n",
       "  q: ┤ X ├┤M├┤ X ├┤M├\n",
       "     └───┘└╥┘└───┘└╥┘\n",
       "c: 1/══════╩═══════╩═\n",
       "           0       0 "
      ]
     },
     "execution_count": 30,
     "metadata": {},
     "output_type": "execute_result"
    }
   ],
   "source": [
    "Qcir=QuantumCircuit(1, 1)\n",
    "Qcir.x(0)\n",
    "Qcir.measure(0,0)\n",
    "backend=Aer.get_backend('qasm_simulator')\n",
    "jobend=execute(Qcir, backend, shots=1024)\n",
    "result=jobend.result()\n",
    "print(result.get_counts())\n",
    "Qcir.x(0)\n",
    "Qcir.measure(0,0)\n",
    "jobend=execute(Qcir, backend, shots=1024)\n",
    "result=jobend.result()\n",
    "print(result.get_counts())\n",
    "\n",
    "Qcir.draw()"
   ]
  },
  {
   "cell_type": "code",
   "execution_count": 25,
   "id": "72be2c11-3017-45d2-9c81-dbcfa9cd219f",
   "metadata": {},
   "outputs": [
    {
     "name": "stdout",
     "output_type": "stream",
     "text": [
      "{'11': 253, '10': 267, '00': 246, '01': 258}\n"
     ]
    },
    {
     "data": {
      "text/html": [
       "<pre style=\"word-wrap: normal;white-space: pre;background: #fff0;line-height: 1.1;font-family: &quot;Courier New&quot;,Courier,monospace\">     ┌───┐┌─┐   \n",
       "q_0: ┤ H ├┤M├───\n",
       "     ├───┤└╥┘┌─┐\n",
       "q_1: ┤ H ├─╫─┤M├\n",
       "     └───┘ ║ └╥┘\n",
       "c: 2/══════╩══╩═\n",
       "           0  1 </pre>"
      ],
      "text/plain": [
       "     ┌───┐┌─┐   \n",
       "q_0: ┤ H ├┤M├───\n",
       "     ├───┤└╥┘┌─┐\n",
       "q_1: ┤ H ├─╫─┤M├\n",
       "     └───┘ ║ └╥┘\n",
       "c: 2/══════╩══╩═\n",
       "           0  1 "
      ]
     },
     "execution_count": 25,
     "metadata": {},
     "output_type": "execute_result"
    }
   ],
   "source": [
    "Qcir=QuantumCircuit(2, 2)\n",
    "Qcir.h(0)\n",
    "Qcir.h(1)\n",
    "Qcir.measure(0,0)\n",
    "Qcir.measure(1,1)\n",
    "backend=Aer.get_backend('qasm_simulator')\n",
    "jobend=execute(Qcir, backend, shots=1024)\n",
    "result=jobend.result()\n",
    "print(result.get_counts())\n",
    "\n",
    "Qcir.draw()"
   ]
  },
  {
   "cell_type": "code",
   "execution_count": null,
   "id": "b7e3aa22-60da-4d9a-840c-c85a4cd738a5",
   "metadata": {},
   "outputs": [],
   "source": []
  }
 ],
 "metadata": {
  "kernelspec": {
   "display_name": "Python 3 [Default]",
   "language": "python",
   "name": "python3"
  },
  "language_info": {
   "codemirror_mode": {
    "name": "ipython",
    "version": 3
   },
   "file_extension": ".py",
   "mimetype": "text/x-python",
   "name": "python",
   "nbconvert_exporter": "python",
   "pygments_lexer": "ipython3",
   "version": "3.9.10"
  }
 },
 "nbformat": 4,
 "nbformat_minor": 5
}
